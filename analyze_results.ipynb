{
 "cells": [
  {
   "cell_type": "code",
   "execution_count": null,
   "id": "2d8edf64",
   "metadata": {},
   "outputs": [
    {
     "data": {
      "text/html": [
       "<div>\n",
       "<style scoped>\n",
       "    .dataframe tbody tr th:only-of-type {\n",
       "        vertical-align: middle;\n",
       "    }\n",
       "\n",
       "    .dataframe tbody tr th {\n",
       "        vertical-align: top;\n",
       "    }\n",
       "\n",
       "    .dataframe thead th {\n",
       "        text-align: right;\n",
       "    }\n",
       "</style>\n",
       "<table border=\"1\" class=\"dataframe\">\n",
       "  <thead>\n",
       "    <tr style=\"text-align: right;\">\n",
       "      <th></th>\n",
       "      <th>blimp_supplement</th>\n",
       "      <th>blimp_filtered</th>\n",
       "    </tr>\n",
       "  </thead>\n",
       "  <tbody>\n",
       "    <tr>\n",
       "      <th>acc,none</th>\n",
       "      <td>0.596177</td>\n",
       "      <td>0.669808</td>\n",
       "    </tr>\n",
       "    <tr>\n",
       "      <th>acc_stderr,none</th>\n",
       "      <td>0.005429</td>\n",
       "      <td>0.001691</td>\n",
       "    </tr>\n",
       "    <tr>\n",
       "      <th>alias</th>\n",
       "      <td>blimp_supplement</td>\n",
       "      <td>blimp_filtered</td>\n",
       "    </tr>\n",
       "  </tbody>\n",
       "</table>\n",
       "</div>"
      ],
      "text/plain": [
       "                 blimp_supplement  blimp_filtered\n",
       "acc,none                 0.596177        0.669808\n",
       "acc_stderr,none          0.005429        0.001691\n",
       "alias            blimp_supplement  blimp_filtered"
      ]
     },
     "execution_count": 5,
     "metadata": {},
     "output_type": "execute_result"
    }
   ],
   "source": [
    "import os\n",
    "import pandas as pd\n",
    "import json\n",
    "\n",
    "file_path = \"./blimp_results.json\"\n",
    "with open(file_path, \"r\") as file:\n",
    "    json_data = json.load(file)\n",
    "json_df = pd.DataFrame(json_data[\"groups\"])\n",
    "json_df"
   ]
  },
  {
   "cell_type": "code",
   "execution_count": 18,
   "id": "13665402",
   "metadata": {},
   "outputs": [
    {
     "name": "stdout",
     "output_type": "stream",
     "text": [
      "Skipping PalenkaLlama1-58M-strict-L0.1-H0.1_20250419_165524, no results ./blimp/PalenkaLlama1-58M-strict-L0.1-H0.1_20250419_165524/blimp_results.json file found.\n"
     ]
    },
    {
     "data": {
      "text/html": [
       "<div>\n",
       "<style scoped>\n",
       "    .dataframe tbody tr th:only-of-type {\n",
       "        vertical-align: middle;\n",
       "    }\n",
       "\n",
       "    .dataframe tbody tr th {\n",
       "        vertical-align: top;\n",
       "    }\n",
       "\n",
       "    .dataframe thead th {\n",
       "        text-align: right;\n",
       "    }\n",
       "</style>\n",
       "<table border=\"1\" class=\"dataframe\">\n",
       "  <thead>\n",
       "    <tr style=\"text-align: right;\">\n",
       "      <th></th>\n",
       "      <th>model_name</th>\n",
       "      <th>blimp_supplement_acc</th>\n",
       "      <th>blimp_supplement_stderr</th>\n",
       "      <th>blimp_filtered_acc</th>\n",
       "      <th>blimp_filtered_stderr</th>\n",
       "    </tr>\n",
       "  </thead>\n",
       "  <tbody>\n",
       "    <tr>\n",
       "      <th>0</th>\n",
       "      <td>BabyLlama1-58M-strict</td>\n",
       "      <td>0.581199</td>\n",
       "      <td>0.005364</td>\n",
       "      <td>0.676288</td>\n",
       "      <td>0.001620</td>\n",
       "    </tr>\n",
       "    <tr>\n",
       "      <th>1</th>\n",
       "      <td>DistilledGPT-44M-strict</td>\n",
       "      <td>0.588133</td>\n",
       "      <td>0.005255</td>\n",
       "      <td>0.657983</td>\n",
       "      <td>0.001628</td>\n",
       "    </tr>\n",
       "    <tr>\n",
       "      <th>2</th>\n",
       "      <td>GPT2-small-97M-strict</td>\n",
       "      <td>0.596177</td>\n",
       "      <td>0.005429</td>\n",
       "      <td>0.669808</td>\n",
       "      <td>0.001691</td>\n",
       "    </tr>\n",
       "  </tbody>\n",
       "</table>\n",
       "</div>"
      ],
      "text/plain": [
       "                model_name  blimp_supplement_acc  blimp_supplement_stderr  \\\n",
       "0    BabyLlama1-58M-strict              0.581199                 0.005364   \n",
       "1  DistilledGPT-44M-strict              0.588133                 0.005255   \n",
       "2    GPT2-small-97M-strict              0.596177                 0.005429   \n",
       "\n",
       "   blimp_filtered_acc  blimp_filtered_stderr  \n",
       "0            0.676288               0.001620  \n",
       "1            0.657983               0.001628  \n",
       "2            0.669808               0.001691  "
      ]
     },
     "execution_count": 18,
     "metadata": {},
     "output_type": "execute_result"
    }
   ],
   "source": [
    "results_root = \"./blimp\"\n",
    "\n",
    "# Get all model folders\n",
    "folders = [f for f in os.listdir(results_root) if os.path.isdir(os.path.join(results_root, f))]\n",
    "all_results = []\n",
    "\n",
    "# Process each folder\n",
    "for folder in folders:\n",
    "    json_path = os.path.join(results_root, folder, 'blimp_results.json')\n",
    "    if not os.path.exists(json_path):\n",
    "        print(f\"Skipping {folder}, no results {json_path} file found.\")\n",
    "        continue\n",
    "        \n",
    "    with open(json_path, 'r') as f:\n",
    "        data = json.load(f)\n",
    "        groups = data['groups']\n",
    "        \n",
    "        # Extract results\n",
    "        df = pd.DataFrame({\n",
    "            'model_name': folder,\n",
    "            'blimp_supplement_acc': groups['blimp_supplement']['acc,none'],\n",
    "            'blimp_supplement_stderr': groups['blimp_supplement']['acc_stderr,none'],\n",
    "            'blimp_filtered_acc': groups['blimp_filtered']['acc,none'],\n",
    "            'blimp_filtered_stderr': groups['blimp_filtered']['acc_stderr,none']\n",
    "        }, index=[0])\n",
    "        all_results.append(df)\n",
    "\n",
    "# Combine all results\n",
    "combined_results = pd.concat(all_results, ignore_index=True)\n",
    "combined_results"
   ]
  },
  {
   "cell_type": "markdown",
   "id": "001ffd3c",
   "metadata": {},
   "source": []
  }
 ],
 "metadata": {
  "kernelspec": {
   "display_name": "binance-calculator",
   "language": "python",
   "name": "python3"
  },
  "language_info": {
   "codemirror_mode": {
    "name": "ipython",
    "version": 3
   },
   "file_extension": ".py",
   "mimetype": "text/x-python",
   "name": "python",
   "nbconvert_exporter": "python",
   "pygments_lexer": "ipython3",
   "version": "3.11.11"
  }
 },
 "nbformat": 4,
 "nbformat_minor": 5
}
